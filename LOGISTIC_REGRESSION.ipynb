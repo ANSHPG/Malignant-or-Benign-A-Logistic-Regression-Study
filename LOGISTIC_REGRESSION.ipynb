{
  "nbformat": 4,
  "nbformat_minor": 0,
  "metadata": {
    "colab": {
      "provenance": []
    },
    "kernelspec": {
      "name": "python3",
      "display_name": "Python 3"
    },
    "language_info": {
      "name": "python"
    }
  },
  "cells": [
    {
      "cell_type": "markdown",
      "source": [
        "# **MODULES IMPORT**"
      ],
      "metadata": {
        "id": "hUDwiPdRs9r0"
      }
    },
    {
      "cell_type": "code",
      "source": [
        "import numpy as np\n",
        "import pandas as pd\n",
        "import matplotlib.pyplot as plt\n",
        "import math"
      ],
      "metadata": {
        "id": "L5kxWpGJtC6n"
      },
      "execution_count": 27,
      "outputs": []
    },
    {
      "cell_type": "markdown",
      "source": [
        "# **FEATURE PROCESSING**"
      ],
      "metadata": {
        "id": "XBgwoFKytVRz"
      }
    },
    {
      "cell_type": "code",
      "source": [
        "data1 = pd.read_csv('data.csv')"
      ],
      "metadata": {
        "id": "hvs6wN6VtPHz"
      },
      "execution_count": 28,
      "outputs": []
    },
    {
      "cell_type": "code",
      "source": [
        "data1.head(2)"
      ],
      "metadata": {
        "colab": {
          "base_uri": "https://localhost:8080/",
          "height": 178
        },
        "id": "IJNob-Kkt9cn",
        "outputId": "a1d6dd5c-6dd9-47c0-86a5-2ee25e9b59ff"
      },
      "execution_count": 29,
      "outputs": [
        {
          "output_type": "execute_result",
          "data": {
            "text/plain": [
              "       id diagnosis  radius_mean  texture_mean  perimeter_mean  area_mean  \\\n",
              "0  842302         M        17.99         10.38           122.8     1001.0   \n",
              "1  842517         M        20.57         17.77           132.9     1326.0   \n",
              "\n",
              "   smoothness_mean  compactness_mean  concavity_mean  concave points_mean  \\\n",
              "0          0.11840           0.27760          0.3001              0.14710   \n",
              "1          0.08474           0.07864          0.0869              0.07017   \n",
              "\n",
              "   ...  texture_worst  perimeter_worst  area_worst  smoothness_worst  \\\n",
              "0  ...          17.33            184.6      2019.0            0.1622   \n",
              "1  ...          23.41            158.8      1956.0            0.1238   \n",
              "\n",
              "   compactness_worst  concavity_worst  concave points_worst  symmetry_worst  \\\n",
              "0             0.6656           0.7119                0.2654          0.4601   \n",
              "1             0.1866           0.2416                0.1860          0.2750   \n",
              "\n",
              "   fractal_dimension_worst  Unnamed: 32  \n",
              "0                  0.11890          NaN  \n",
              "1                  0.08902          NaN  \n",
              "\n",
              "[2 rows x 33 columns]"
            ],
            "text/html": [
              "\n",
              "  <div id=\"df-6f9958ec-51b2-41c5-ab81-573c5b7509fe\" class=\"colab-df-container\">\n",
              "    <div>\n",
              "<style scoped>\n",
              "    .dataframe tbody tr th:only-of-type {\n",
              "        vertical-align: middle;\n",
              "    }\n",
              "\n",
              "    .dataframe tbody tr th {\n",
              "        vertical-align: top;\n",
              "    }\n",
              "\n",
              "    .dataframe thead th {\n",
              "        text-align: right;\n",
              "    }\n",
              "</style>\n",
              "<table border=\"1\" class=\"dataframe\">\n",
              "  <thead>\n",
              "    <tr style=\"text-align: right;\">\n",
              "      <th></th>\n",
              "      <th>id</th>\n",
              "      <th>diagnosis</th>\n",
              "      <th>radius_mean</th>\n",
              "      <th>texture_mean</th>\n",
              "      <th>perimeter_mean</th>\n",
              "      <th>area_mean</th>\n",
              "      <th>smoothness_mean</th>\n",
              "      <th>compactness_mean</th>\n",
              "      <th>concavity_mean</th>\n",
              "      <th>concave points_mean</th>\n",
              "      <th>...</th>\n",
              "      <th>texture_worst</th>\n",
              "      <th>perimeter_worst</th>\n",
              "      <th>area_worst</th>\n",
              "      <th>smoothness_worst</th>\n",
              "      <th>compactness_worst</th>\n",
              "      <th>concavity_worst</th>\n",
              "      <th>concave points_worst</th>\n",
              "      <th>symmetry_worst</th>\n",
              "      <th>fractal_dimension_worst</th>\n",
              "      <th>Unnamed: 32</th>\n",
              "    </tr>\n",
              "  </thead>\n",
              "  <tbody>\n",
              "    <tr>\n",
              "      <th>0</th>\n",
              "      <td>842302</td>\n",
              "      <td>M</td>\n",
              "      <td>17.99</td>\n",
              "      <td>10.38</td>\n",
              "      <td>122.8</td>\n",
              "      <td>1001.0</td>\n",
              "      <td>0.11840</td>\n",
              "      <td>0.27760</td>\n",
              "      <td>0.3001</td>\n",
              "      <td>0.14710</td>\n",
              "      <td>...</td>\n",
              "      <td>17.33</td>\n",
              "      <td>184.6</td>\n",
              "      <td>2019.0</td>\n",
              "      <td>0.1622</td>\n",
              "      <td>0.6656</td>\n",
              "      <td>0.7119</td>\n",
              "      <td>0.2654</td>\n",
              "      <td>0.4601</td>\n",
              "      <td>0.11890</td>\n",
              "      <td>NaN</td>\n",
              "    </tr>\n",
              "    <tr>\n",
              "      <th>1</th>\n",
              "      <td>842517</td>\n",
              "      <td>M</td>\n",
              "      <td>20.57</td>\n",
              "      <td>17.77</td>\n",
              "      <td>132.9</td>\n",
              "      <td>1326.0</td>\n",
              "      <td>0.08474</td>\n",
              "      <td>0.07864</td>\n",
              "      <td>0.0869</td>\n",
              "      <td>0.07017</td>\n",
              "      <td>...</td>\n",
              "      <td>23.41</td>\n",
              "      <td>158.8</td>\n",
              "      <td>1956.0</td>\n",
              "      <td>0.1238</td>\n",
              "      <td>0.1866</td>\n",
              "      <td>0.2416</td>\n",
              "      <td>0.1860</td>\n",
              "      <td>0.2750</td>\n",
              "      <td>0.08902</td>\n",
              "      <td>NaN</td>\n",
              "    </tr>\n",
              "  </tbody>\n",
              "</table>\n",
              "<p>2 rows × 33 columns</p>\n",
              "</div>\n",
              "    <div class=\"colab-df-buttons\">\n",
              "\n",
              "  <div class=\"colab-df-container\">\n",
              "    <button class=\"colab-df-convert\" onclick=\"convertToInteractive('df-6f9958ec-51b2-41c5-ab81-573c5b7509fe')\"\n",
              "            title=\"Convert this dataframe to an interactive table.\"\n",
              "            style=\"display:none;\">\n",
              "\n",
              "  <svg xmlns=\"http://www.w3.org/2000/svg\" height=\"24px\" viewBox=\"0 -960 960 960\">\n",
              "    <path d=\"M120-120v-720h720v720H120Zm60-500h600v-160H180v160Zm220 220h160v-160H400v160Zm0 220h160v-160H400v160ZM180-400h160v-160H180v160Zm440 0h160v-160H620v160ZM180-180h160v-160H180v160Zm440 0h160v-160H620v160Z\"/>\n",
              "  </svg>\n",
              "    </button>\n",
              "\n",
              "  <style>\n",
              "    .colab-df-container {\n",
              "      display:flex;\n",
              "      gap: 12px;\n",
              "    }\n",
              "\n",
              "    .colab-df-convert {\n",
              "      background-color: #E8F0FE;\n",
              "      border: none;\n",
              "      border-radius: 50%;\n",
              "      cursor: pointer;\n",
              "      display: none;\n",
              "      fill: #1967D2;\n",
              "      height: 32px;\n",
              "      padding: 0 0 0 0;\n",
              "      width: 32px;\n",
              "    }\n",
              "\n",
              "    .colab-df-convert:hover {\n",
              "      background-color: #E2EBFA;\n",
              "      box-shadow: 0px 1px 2px rgba(60, 64, 67, 0.3), 0px 1px 3px 1px rgba(60, 64, 67, 0.15);\n",
              "      fill: #174EA6;\n",
              "    }\n",
              "\n",
              "    .colab-df-buttons div {\n",
              "      margin-bottom: 4px;\n",
              "    }\n",
              "\n",
              "    [theme=dark] .colab-df-convert {\n",
              "      background-color: #3B4455;\n",
              "      fill: #D2E3FC;\n",
              "    }\n",
              "\n",
              "    [theme=dark] .colab-df-convert:hover {\n",
              "      background-color: #434B5C;\n",
              "      box-shadow: 0px 1px 3px 1px rgba(0, 0, 0, 0.15);\n",
              "      filter: drop-shadow(0px 1px 2px rgba(0, 0, 0, 0.3));\n",
              "      fill: #FFFFFF;\n",
              "    }\n",
              "  </style>\n",
              "\n",
              "    <script>\n",
              "      const buttonEl =\n",
              "        document.querySelector('#df-6f9958ec-51b2-41c5-ab81-573c5b7509fe button.colab-df-convert');\n",
              "      buttonEl.style.display =\n",
              "        google.colab.kernel.accessAllowed ? 'block' : 'none';\n",
              "\n",
              "      async function convertToInteractive(key) {\n",
              "        const element = document.querySelector('#df-6f9958ec-51b2-41c5-ab81-573c5b7509fe');\n",
              "        const dataTable =\n",
              "          await google.colab.kernel.invokeFunction('convertToInteractive',\n",
              "                                                    [key], {});\n",
              "        if (!dataTable) return;\n",
              "\n",
              "        const docLinkHtml = 'Like what you see? Visit the ' +\n",
              "          '<a target=\"_blank\" href=https://colab.research.google.com/notebooks/data_table.ipynb>data table notebook</a>'\n",
              "          + ' to learn more about interactive tables.';\n",
              "        element.innerHTML = '';\n",
              "        dataTable['output_type'] = 'display_data';\n",
              "        await google.colab.output.renderOutput(dataTable, element);\n",
              "        const docLink = document.createElement('div');\n",
              "        docLink.innerHTML = docLinkHtml;\n",
              "        element.appendChild(docLink);\n",
              "      }\n",
              "    </script>\n",
              "  </div>\n",
              "\n",
              "\n",
              "<div id=\"df-ebd8deb4-13f9-4b94-ad06-bc76e312a29c\">\n",
              "  <button class=\"colab-df-quickchart\" onclick=\"quickchart('df-ebd8deb4-13f9-4b94-ad06-bc76e312a29c')\"\n",
              "            title=\"Suggest charts\"\n",
              "            style=\"display:none;\">\n",
              "\n",
              "<svg xmlns=\"http://www.w3.org/2000/svg\" height=\"24px\"viewBox=\"0 0 24 24\"\n",
              "     width=\"24px\">\n",
              "    <g>\n",
              "        <path d=\"M19 3H5c-1.1 0-2 .9-2 2v14c0 1.1.9 2 2 2h14c1.1 0 2-.9 2-2V5c0-1.1-.9-2-2-2zM9 17H7v-7h2v7zm4 0h-2V7h2v10zm4 0h-2v-4h2v4z\"/>\n",
              "    </g>\n",
              "</svg>\n",
              "  </button>\n",
              "\n",
              "<style>\n",
              "  .colab-df-quickchart {\n",
              "      --bg-color: #E8F0FE;\n",
              "      --fill-color: #1967D2;\n",
              "      --hover-bg-color: #E2EBFA;\n",
              "      --hover-fill-color: #174EA6;\n",
              "      --disabled-fill-color: #AAA;\n",
              "      --disabled-bg-color: #DDD;\n",
              "  }\n",
              "\n",
              "  [theme=dark] .colab-df-quickchart {\n",
              "      --bg-color: #3B4455;\n",
              "      --fill-color: #D2E3FC;\n",
              "      --hover-bg-color: #434B5C;\n",
              "      --hover-fill-color: #FFFFFF;\n",
              "      --disabled-bg-color: #3B4455;\n",
              "      --disabled-fill-color: #666;\n",
              "  }\n",
              "\n",
              "  .colab-df-quickchart {\n",
              "    background-color: var(--bg-color);\n",
              "    border: none;\n",
              "    border-radius: 50%;\n",
              "    cursor: pointer;\n",
              "    display: none;\n",
              "    fill: var(--fill-color);\n",
              "    height: 32px;\n",
              "    padding: 0;\n",
              "    width: 32px;\n",
              "  }\n",
              "\n",
              "  .colab-df-quickchart:hover {\n",
              "    background-color: var(--hover-bg-color);\n",
              "    box-shadow: 0 1px 2px rgba(60, 64, 67, 0.3), 0 1px 3px 1px rgba(60, 64, 67, 0.15);\n",
              "    fill: var(--button-hover-fill-color);\n",
              "  }\n",
              "\n",
              "  .colab-df-quickchart-complete:disabled,\n",
              "  .colab-df-quickchart-complete:disabled:hover {\n",
              "    background-color: var(--disabled-bg-color);\n",
              "    fill: var(--disabled-fill-color);\n",
              "    box-shadow: none;\n",
              "  }\n",
              "\n",
              "  .colab-df-spinner {\n",
              "    border: 2px solid var(--fill-color);\n",
              "    border-color: transparent;\n",
              "    border-bottom-color: var(--fill-color);\n",
              "    animation:\n",
              "      spin 1s steps(1) infinite;\n",
              "  }\n",
              "\n",
              "  @keyframes spin {\n",
              "    0% {\n",
              "      border-color: transparent;\n",
              "      border-bottom-color: var(--fill-color);\n",
              "      border-left-color: var(--fill-color);\n",
              "    }\n",
              "    20% {\n",
              "      border-color: transparent;\n",
              "      border-left-color: var(--fill-color);\n",
              "      border-top-color: var(--fill-color);\n",
              "    }\n",
              "    30% {\n",
              "      border-color: transparent;\n",
              "      border-left-color: var(--fill-color);\n",
              "      border-top-color: var(--fill-color);\n",
              "      border-right-color: var(--fill-color);\n",
              "    }\n",
              "    40% {\n",
              "      border-color: transparent;\n",
              "      border-right-color: var(--fill-color);\n",
              "      border-top-color: var(--fill-color);\n",
              "    }\n",
              "    60% {\n",
              "      border-color: transparent;\n",
              "      border-right-color: var(--fill-color);\n",
              "    }\n",
              "    80% {\n",
              "      border-color: transparent;\n",
              "      border-right-color: var(--fill-color);\n",
              "      border-bottom-color: var(--fill-color);\n",
              "    }\n",
              "    90% {\n",
              "      border-color: transparent;\n",
              "      border-bottom-color: var(--fill-color);\n",
              "    }\n",
              "  }\n",
              "</style>\n",
              "\n",
              "  <script>\n",
              "    async function quickchart(key) {\n",
              "      const quickchartButtonEl =\n",
              "        document.querySelector('#' + key + ' button');\n",
              "      quickchartButtonEl.disabled = true;  // To prevent multiple clicks.\n",
              "      quickchartButtonEl.classList.add('colab-df-spinner');\n",
              "      try {\n",
              "        const charts = await google.colab.kernel.invokeFunction(\n",
              "            'suggestCharts', [key], {});\n",
              "      } catch (error) {\n",
              "        console.error('Error during call to suggestCharts:', error);\n",
              "      }\n",
              "      quickchartButtonEl.classList.remove('colab-df-spinner');\n",
              "      quickchartButtonEl.classList.add('colab-df-quickchart-complete');\n",
              "    }\n",
              "    (() => {\n",
              "      let quickchartButtonEl =\n",
              "        document.querySelector('#df-ebd8deb4-13f9-4b94-ad06-bc76e312a29c button');\n",
              "      quickchartButtonEl.style.display =\n",
              "        google.colab.kernel.accessAllowed ? 'block' : 'none';\n",
              "    })();\n",
              "  </script>\n",
              "</div>\n",
              "\n",
              "    </div>\n",
              "  </div>\n"
            ],
            "application/vnd.google.colaboratory.intrinsic+json": {
              "type": "dataframe",
              "variable_name": "data1"
            }
          },
          "metadata": {},
          "execution_count": 29
        }
      ]
    },
    {
      "cell_type": "code",
      "source": [
        "x1 = np.array(data1['radius_mean'].values)\n",
        "x2 = np.array(data1['smoothness_mean'].values)\n",
        "x = [x1,x2]"
      ],
      "metadata": {
        "id": "K0_k65MpuD9S"
      },
      "execution_count": 30,
      "outputs": []
    },
    {
      "cell_type": "code",
      "source": [
        "degree = 5\n",
        "iteration = 100000"
      ],
      "metadata": {
        "id": "n7jkunOG-RdH"
      },
      "execution_count": 44,
      "outputs": []
    },
    {
      "cell_type": "code",
      "source": [
        "y = data1['diagnosis'].values\n",
        "for i in range (0,len(y)):\n",
        "  if(y[i]=='M'):\n",
        "    y[i]=1\n",
        "  else:\n",
        "    y[i]=0"
      ],
      "metadata": {
        "id": "elRPtj99-kHa"
      },
      "execution_count": 32,
      "outputs": []
    },
    {
      "cell_type": "markdown",
      "source": [
        "# **FORMULAS**"
      ],
      "metadata": {
        "id": "VvsILyLfqSZZ"
      }
    },
    {
      "cell_type": "markdown",
      "source": [
        "**Sigmoid Function**\n",
        "$$f_{(w,b)}(z) = \\frac{1}{1+e^{-z}}$$\n",
        "$$z = w.x+b$$\n",
        "*It returns values between 0 and 1*\n",
        "<br><br>\n",
        "**COST FUNCTION**\n",
        "$$j_{(w,b)} = \\frac{1}{m}\\sum_{i=1}^{m}[loss(f_{(w,b)}(x^i),y^i]$$\n",
        "$$loss = -y^i.log(f_{(w,b)}x^i)-(1-y^i).log(1-f_{(w,b)}x^i)$$\n",
        "*Here the loss fuction helps to penalize the wrong output more*\n",
        "<br><br>\n",
        "**GRADIENT FUNCTION**\n",
        "\n",
        "$$\\frac{dJ_{(w,b)}}{dw_j} = \\frac{1}{m}\\sum_{i=1}^{m}(f_{(w,b)}(x^i)-y^i).x_j^i$$\n",
        "$$\\frac{dJ_{(w,b)}}{db} = \\frac{1}{m}\\sum_{i=1}^{m}(f_{(w,b)}(x^i)-y^i).1$$\n",
        "\n",
        "*Here this function is similar to that of linear regression but the output function is different*\n",
        "<br><br>\n",
        "**GRADIENT DESCENT FUNCTION**\n",
        "\n",
        "$$w_j = w_j - \\alpha.\\frac{dJ_{(w,b)}}{dw_j}$$\n",
        "$$b = b - \\alpha.\\frac{dJ_{(w,b)}}{db}$$\n",
        "*It helps to reach parametrical values efficiently*"
      ],
      "metadata": {
        "id": "2bp0b6-Vo45q"
      }
    },
    {
      "cell_type": "markdown",
      "source": [
        "# **ALGORITHM**"
      ],
      "metadata": {
        "id": "tPUJZOoeDbeA"
      }
    },
    {
      "cell_type": "code",
      "source": [
        "def classification2(x, y,degree,itr):\n",
        "    # standardisation\n",
        "    def standard(arr):\n",
        "        return (arr - np.mean(arr)) / np.std(arr)\n",
        "\n",
        "    # Polynomial Features Formation\n",
        "    def polynomialFeature(x, degree):\n",
        "        def power(arr, p):\n",
        "            return arr ** p\n",
        "\n",
        "        f = []\n",
        "        for i in range(len(x)):\n",
        "            f.append(x[i])\n",
        "        for i in range(2,degree+1):\n",
        "            for j in range(len(x)):\n",
        "                powered_feature = power(x[j], i)\n",
        "                f.append(powered_feature)\n",
        "        return f\n",
        "\n",
        "    # Formation of multi-dimensional Feature array\n",
        "    def twod(f):\n",
        "        arr = np.zeros((len(f[0]), len(f)))\n",
        "        for i in range(0, len(f[0])):\n",
        "            for j in range(0, len(f)):\n",
        "                arr[i][j] = f[j][i]\n",
        "        return arr\n",
        "\n",
        "    # Splitting into train and test data\n",
        "    def ttsplit(x):\n",
        "        m = int(0.75 * x.shape[0])\n",
        "        train = x[:m, :]\n",
        "        test = x[m:, :]\n",
        "        return train, test\n",
        "\n",
        "    # logistic regression algorithm\n",
        "    def logisticRegression(x, y, alpha, iteration):\n",
        "        # Sigmoid Function\n",
        "        def sigmoid(z):\n",
        "            return 1 / (1 + np.exp(-z))\n",
        "\n",
        "        # Cost Function\n",
        "        def cost(x, y, w, b):\n",
        "            m, n = x.shape\n",
        "            s = 0\n",
        "            for i in range(m):\n",
        "                f_wb = sigmoid(np.dot(w, x[i]) + b)\n",
        "                f_wb = np.clip(f_wb, 1e-10, 1 - 1e-10)  # Clipping to avoid log(0)\n",
        "                s += -y[i] * np.log(f_wb) - (1 - y[i]) * np.log(1 - f_wb)\n",
        "            return s / m\n",
        "\n",
        "        # Gradient Function\n",
        "        def gradient(x, y, w, b):\n",
        "            m, n = x.shape\n",
        "            dj_dw = np.zeros(n)\n",
        "            dj_db = 0\n",
        "            for i in range(0, m):\n",
        "                x[i] = np.array(x[i])\n",
        "                error = sigmoid(np.dot(w, x[i]) + b) - y[i]\n",
        "                for j in range(0, n):\n",
        "                    dj_dw[j] += error * x[i][j]\n",
        "                dj_db += error\n",
        "            return dj_dw / m, dj_db / m\n",
        "\n",
        "        # Gradient Descent Function\n",
        "        def descent(x, y, w, b, alpha, iteration):\n",
        "            j_hist = []\n",
        "            for i in range(0, iteration):\n",
        "                dj_dw, dj_db = gradient(x, y, w, b)\n",
        "                for j in range(0, len(dj_dw)):\n",
        "                    w = w- alpha * dj_dw\n",
        "                b = b - alpha * dj_db\n",
        "                j_hist.append(cost(x, y, w, b))\n",
        "                if int(i % int(0.1*iteration)) == 0:\n",
        "                    print(f'iteration[{i}] - cost: {cost(x, y, w, b)}')\n",
        "            print(f'iteration[{iteration-1}] - cost: {cost(x, y, w, b)}')\n",
        "            return w, b , j_hist\n",
        "\n",
        "        # Input\n",
        "        w, b, jhist = descent(x, y, np.zeros(x.shape[1]), 0, alpha, iteration)\n",
        "        return w, b, jhist\n",
        "\n",
        "    # Level 1 - standardisation\n",
        "    for i in range(0, len(x)):\n",
        "        x[i] = standard(x[i])\n",
        "\n",
        "    # Level 2 - Polynomial feature formation\n",
        "    f = polynomialFeature(x, degree)\n",
        "\n",
        "    # Level 3 - Formation of multi-dimensional Feature array\n",
        "    arr = twod(f)\n",
        "\n",
        "    # Level 4 - split into train and test\n",
        "    x_train, x_test = ttsplit(arr)\n",
        "    y_train = y[:int(0.75 * len(y))]\n",
        "    y_test = y[int(0.75 * len(y)):]\n",
        "\n",
        "    # Level 5 - logistic regression\n",
        "    alpha = 0.01\n",
        "    iteration = itr\n",
        "    w, b, jhist = logisticRegression(x_train, y_train, alpha, iteration)\n",
        "\n",
        "    return w, b, x_train, x_test, y_train, y_test, jhist"
      ],
      "metadata": {
        "id": "lPxTRUyyE0zb"
      },
      "execution_count": 42,
      "outputs": []
    },
    {
      "cell_type": "code",
      "source": [
        "w,b,x_train,x_test,y_train,y_test,jhist = classification2(x,y,degree,iteration)"
      ],
      "metadata": {
        "colab": {
          "base_uri": "https://localhost:8080/",
          "height": 0
        },
        "id": "yjWtctHUHNk0",
        "outputId": "07c2c7fd-b26c-4662-9ca0-864150e4dcdf"
      },
      "execution_count": 46,
      "outputs": [
        {
          "output_type": "stream",
          "name": "stdout",
          "text": [
            "iteration[0] - cost: 0.5157973960273731\n",
            "iteration[10000] - cost: 0.21868735765232983\n",
            "iteration[20000] - cost: 0.21846347383154102\n",
            "iteration[30000] - cost: 0.21835905405140096\n",
            "iteration[40000] - cost: 0.21827270794207518\n",
            "iteration[50000] - cost: 0.21819947748926383\n",
            "iteration[60000] - cost: 0.2181366950561976\n",
            "iteration[70000] - cost: 0.21808242215887763\n",
            "iteration[80000] - cost: 0.21803519110372613\n",
            "iteration[90000] - cost: 0.2179938626232398\n",
            "iteration[99999] - cost: 0.21795753704864482\n"
          ]
        }
      ]
    },
    {
      "cell_type": "markdown",
      "source": [
        "# **PLOTTING**"
      ],
      "metadata": {
        "id": "KlxmCshvDmIJ"
      }
    },
    {
      "cell_type": "code",
      "source": [],
      "metadata": {
        "id": "L55gk2099GCP"
      },
      "execution_count": null,
      "outputs": []
    },
    {
      "cell_type": "code",
      "source": [
        "def dscboundary(x, y, w, b,degree,ch):\n",
        "    def sigmoid(z):\n",
        "        return np.exp(-np.maximum(z, 0)) / (1 + np.exp(-np.abs(z)))\n",
        "\n",
        "    def polynomialFeature(x, degree):\n",
        "        def power(arr, p):\n",
        "            return arr ** p\n",
        "\n",
        "        f = []\n",
        "        for i in range(x.shape[1]):\n",
        "            f.append(x[:, i])\n",
        "        for i in range(2, degree + 1):\n",
        "            for j in range(x.shape[1]):\n",
        "                powered_feature = power(x[:, j], i)\n",
        "                f.append(powered_feature)\n",
        "        return np.column_stack(f)\n",
        "\n",
        "    # Generating mesh grid for plotting\n",
        "    x_min, x_max = x[:, 0].min() - 1, x[:, 0].max() + 1\n",
        "    y_min, y_max = x[:, 1].min() - 1, x[:, 1].max() + 1\n",
        "\n",
        "    xmesh, ymesh = np.meshgrid(np.arange(x_min, x_max, 0.01), np.arange(y_min, y_max, 0.01))\n",
        "\n",
        "    # Creating grid of points to evaluate\n",
        "    grid = np.c_[xmesh.ravel(), ymesh.ravel()]\n",
        "    gridpoly = polynomialFeature(np.column_stack((grid, np.zeros((len(grid), 0)))), degree)\n",
        "\n",
        "    # Computing sigmoid on the linear combination of the features\n",
        "    zmesh = sigmoid(np.dot(gridpoly, w) + b)\n",
        "    zmesh = zmesh.reshape(xmesh.shape)\n",
        "\n",
        "    # Plotting the contour and the training points\n",
        "\n",
        "    fig, ax = plt.subplots()\n",
        "\n",
        "    #facecolor,title,axes,labels\n",
        "    theme_dark = ['#121212','#0abb92','#7F7B7B','#ffffff','#1D1C1C']\n",
        "    theme_atmos = ['#1b1e2b','#31CBC3','#80cbc4','#CCCFDA','#292d3e']\n",
        "    theme_default = ['white','#000000','#000000','#000000','white']\n",
        "\n",
        "    if(ch == 0):\n",
        "      theme = theme_dark\n",
        "    elif(ch==1):\n",
        "      theme = theme_atmos\n",
        "    else:\n",
        "      theme = theme_default\n",
        "\n",
        "    fig.patch.set_facecolor(theme[0])\n",
        "    ax.set_facecolor(theme[4])\n",
        "\n",
        "\n",
        "    # ax.contourf(xmesh, ymesh, zmesh, levels=[0, 0.5, 1], colors=['#e98585', '#bfc8e0'], alpha=1)\n",
        "    ax.contour(xmesh, ymesh, zmesh, levels=[0.5], colors='yellow')\n",
        "\n",
        "    ax.scatter(x[y == 0][:, 0], x[y == 0][:, 1], c='#479b1a', marker='s', label='Benign')\n",
        "    ax.scatter(x[y == 1][:, 0], x[y == 1][:, 1], c='#cbd1c5', marker='v', label='Malignant')\n",
        "\n",
        "    ax.set_xlabel('radius')\n",
        "    ax.set_ylabel('smoothness')\n",
        "\n",
        "    ax.set_title('Logistic Regression Model for Breast Cancer',color=theme[1])\n",
        "\n",
        "    ax.tick_params(axis='x', colors=theme[2])\n",
        "    ax.tick_params(axis='y', colors=theme[2])\n",
        "\n",
        "    ax.xaxis.label.set_color(theme[3])\n",
        "    ax.yaxis.label.set_color(theme[3])\n",
        "\n",
        "    legend = ax.legend()\n",
        "    legend.get_frame().set_facecolor('#292d3e')\n",
        "\n",
        "    for text in legend.get_texts():\n",
        "        text.set_color('white')\n",
        "\n",
        "    plt.show()\n"
      ],
      "metadata": {
        "id": "i3eDPY6Cxfc1"
      },
      "execution_count": 35,
      "outputs": []
    },
    {
      "cell_type": "code",
      "source": [
        "dscboundary(x_train , y_train, w, b,degree,1)"
      ],
      "metadata": {
        "id": "bBTXlM4rKKaF",
        "colab": {
          "base_uri": "https://localhost:8080/",
          "height": 472
        },
        "outputId": "06ea6cc5-84db-40fc-9b21-4c656b7a1417"
      },
      "execution_count": 51,
      "outputs": [
        {
          "output_type": "display_data",
          "data": {
            "text/plain": [
              "<Figure size 640x480 with 1 Axes>"
            ],
            "image/png": "[encoded data removed]"
          },
          "metadata": {}
        }
      ]
    },
    {
      "cell_type": "code",
      "source": [
        "fig, ax = plt.subplots()\n",
        "\n",
        "theme= ['#1b1e2b','#31CBC3','#80cbc4','#CCCFDA','#292d3e']\n",
        "\n",
        "fig.patch.set_facecolor(theme[0])\n",
        "ax.set_facecolor(theme[4])\n",
        "\n",
        "ax.set_xlabel('iterations')\n",
        "ax.set_ylabel('cost')\n",
        "\n",
        "ax.set_title(f'Decrease of Error(cost) on {iteration} iterations',color=theme[1])\n",
        "\n",
        "ax.tick_params(axis='x', colors=theme[2])\n",
        "ax.tick_params(axis='y', colors=theme[2])\n",
        "\n",
        "ax.xaxis.label.set_color(theme[3])\n",
        "ax.yaxis.label.set_color(theme[3])\n",
        "\n",
        "xaxis = np.arange(0,iteration,1)\n",
        "ax.plot(xaxis,jhist)"
      ],
      "metadata": {
        "id": "fgd30xUoIW-H",
        "colab": {
          "base_uri": "https://localhost:8080/",
          "height": 489
        },
        "outputId": "cbc253dd-f8b3-4d41-c213-2c7568a57039"
      },
      "execution_count": 49,
      "outputs": [
        {
          "output_type": "execute_result",
          "data": {
            "text/plain": [
              "[<matplotlib.lines.Line2D at 0x78ed06254250>]"
            ]
          },
          "metadata": {},
          "execution_count": 49
        },
        {
          "output_type": "display_data",
          "data": {
            "text/plain": [
              "<Figure size 640x480 with 1 Axes>"
            ],
            "image/png": "[encoded data removed]"
          },
          "metadata": {}
        }
      ]
    },
    {
      "cell_type": "markdown",
      "source": [
        "$$f_{(w,b)}(z) = \\frac{1}{1+e^{-z}}$$\n",
        "$$z = w.x+b$$\n",
        "<br><br>\n",
        "$$j_{(w,b)} = \\frac{1}{m}\\sum_{i=1}^{m}[loss(f_{(w,b)}(x^i),y^i]$$\n",
        "$$loss = -y^i.log(f_{(w,b)}x^i)-(1-y^i).log(1-f_{(w,b)}x^i)$$\n",
        "<br><br>\n",
        "$$\\frac{dJ_{(w,b)}}{dw_j} = \\frac{1}{m}\\sum_{i=1}^{m}(f_{(w,b)}(x^i)-y^i).x_j^i$$\n",
        "$$\\frac{dJ_{(w,b)}}{db} = \\frac{1}{m}\\sum_{i=1}^{m}(f_{(w,b)}(x^i)-y^i).1$$\n",
        "<br><br>\n",
        "$$w_j = w_j - \\alpha.\\frac{dJ_{(w,b)}}{dw_j}$$\n",
        "$$b = b - \\alpha.\\frac{dJ_{(w,b)}}{db}$$"
      ],
      "metadata": {
        "id": "JTDfe10EDO4X"
      }
    },
    {
      "cell_type": "code",
      "source": [],
      "metadata": {
        "id": "odsunD_hDhIK"
      },
      "execution_count": null,
      "outputs": []
    }
  ]
}